{
 "cells": [
  {
   "cell_type": "markdown",
   "metadata": {},
   "source": [
    "# Forecasting Non-Farm Payrolls With Linear Regression \n",
    "\n",
    "by [Manuel Perez Yllan](https://www.linkedin.com/in/mpyllan/)\n",
    "\n",
    "<img width=80 src=\"Images/Assembler.png\">\n",
    "\n",
    "***"
   ]
  },
  {
   "cell_type": "markdown",
   "metadata": {},
   "source": [
    "Because of its simplicity and outcomes that are linearly dependent, linear regression is ignored. Linear regression is a powerful tool for handling many challenging forecasting problems. Let’s see how to forecast employment data from the United States using a simple linear regression in Python.\n",
    "\n",
    "<img width=800 src=\"Images/linear-regression.png\">\n"
   ]
  },
  {
   "cell_type": "markdown",
   "metadata": {},
   "source": [
    "## What Are Non-Farm Payrolls?\n",
    "\n",
    "From all health of the labor market indicators in the United States, non-farm payrolls (NFP) is a crucial and frequently followed economic indicator. This monthly employment report, which does not include occupations in private households, NGOs, or the agricultural sector, offers a thorough overview of the employment situation in the United States. The NFP report reveals the net change in the total number of paid employees in the U.S., excluding the sectors mentioned above, in the previous month.\n",
    "\n",
    "By analyzing the data, many people (economists, policymakers, and investors) can measure the health of the labor market, track employment trends, and make informed decisions regarding economic policies, investments, and hiring practices."
   ]
  },
  {
   "cell_type": "markdown",
   "metadata": {},
   "source": [
    "Let’s try to apply our model and see how it performs. We will evaluate our forecasts using the directional ratio and the RMSE. Here’s what they refer to:\n",
    "\n",
    "- The directional ratio is simply a binary up or down measure that compares the number of the correct forecasts (NFP going up versus NFP going down) to the number of predictions.\n",
    "\n",
    "\n",
    "- The RMSE stands for root mean squared error. It is a measure of the average magnitude of the errors between predicted and actual values in a dataset."
   ]
  },
  {
   "cell_type": "markdown",
   "metadata": {},
   "source": [
    "## Tasks\n",
    "\n",
    "Linear regression draws the best-fitting straight line through a scatterplot of data points. \n",
    "\n",
    "1. Load the NFP data from the Excel file (NFP.xlsx). You can use the FRED API as well.\n",
    "\n",
    "2. Split the data into training and test sets.\n",
    "\n",
    "3. Fit the model using the last five NFP changes as features or signals. Predict the test set.\n",
    "\n",
    "4. Evaluate and compare the performance of the predictions."
   ]
  },
  {
   "cell_type": "markdown",
   "metadata": {},
   "source": [
    "### Import Libraries\n",
    "\n",
    "But first we need to load the required libraries:"
   ]
  },
  {
   "cell_type": "code",
   "execution_count": null,
   "metadata": {},
   "outputs": [],
   "source": [
    "!pip install scikit-learn\n",
    "!pip install openpyxl\n",
    "!pip install matplotlib\n",
    "\n",
    "# Required libraries\n",
    "import math\n",
    "import numpy as np\n",
    "import pandas as pd\n",
    "from sklearn.linear_model import LinearRegression\n",
    "from sklearn.metrics import mean_squared_error\n",
    "import matplotlib.pyplot as plt"
   ]
  },
  {
   "cell_type": "markdown",
   "metadata": {},
   "source": [
    "### Load and Transform the Data"
   ]
  },
  {
   "cell_type": "code",
   "execution_count": null,
   "metadata": {},
   "outputs": [],
   "source": [
    "# Load data from file\n",
    "data = pd.read_excel('NFP.xlsx').values\n",
    "# Is everything ok with the libraries?\n",
    "print(data)"
   ]
  },
  {
   "cell_type": "markdown",
   "metadata": {},
   "source": [
    "We have to flatten the data. We need a list of numbers, not a list of lists."
   ]
  },
  {
   "cell_type": "code",
   "execution_count": null,
   "metadata": {},
   "outputs": [],
   "source": [
    "# Flatten the data \n",
    "data = np.reshape(data, (-1))\n",
    "# What's np.reshape doing?\n",
    "print(data)"
   ]
  },
  {
   "cell_type": "markdown",
   "metadata": {},
   "source": [
    "Now we want the \"derivative\" of the data. That is, the discrete rate of change from one point to the next."
   ]
  },
  {
   "cell_type": "code",
   "execution_count": null,
   "metadata": {},
   "outputs": [],
   "source": [
    "# What's diff doing? Why?\n",
    "data = np.diff(data)\n",
    "print(data)"
   ]
  },
  {
   "cell_type": "markdown",
   "metadata": {},
   "source": [
    "Do you truly understand the data? Can you envision a plot for it?"
   ]
  },
  {
   "cell_type": "markdown",
   "metadata": {},
   "source": [
    "### Data Processing\n",
    "\n",
    "Now we need to split the data into train and test sets. We`ll train the LR model over the train dataset and test its performance over the test dataset.\n",
    "Let's define a function to split the data:"
   ]
  },
  {
   "cell_type": "code",
   "execution_count": null,
   "metadata": {},
   "outputs": [],
   "source": [
    "def data_preprocessing(data, num_lags, train_test_split):\n",
    "    # Prepare the data for training\n",
    "    x = []\n",
    "    y = []\n",
    "    for i in range(len(data) - num_lags):\n",
    "        x.append(data[i:i + num_lags])\n",
    "        y.append(data[i+ num_lags])\n",
    "    # Convert the data to numpy arrays\n",
    "    x = np.array(x)\n",
    "    y = np.array(y)\n",
    "    # Split the data into training and testing setst\n",
    "    split_index = int(train_test_split * len(x))\n",
    "    _x_train = x[:split_index]\n",
    "    _y_train = y[:split_index]\n",
    "    _x_test = x[split_index:]\n",
    "    _y_test = y[split_index:]\n",
    "    return _x_train, _y_train, _x_test, _y_test "
   ]
  },
  {
   "cell_type": "code",
   "execution_count": null,
   "metadata": {},
   "outputs": [],
   "source": [
    "# Datase preprocessing & Splitting\n",
    "x_train, y_train, x_test, y_test = data_preprocessing(data, 5, 0.80)"
   ]
  },
  {
   "cell_type": "code",
   "execution_count": null,
   "metadata": {},
   "outputs": [],
   "source": [
    "print('Test set size: ', len(x_test))\n",
    "print(x_test)"
   ]
  },
  {
   "cell_type": "code",
   "execution_count": null,
   "metadata": {},
   "outputs": [],
   "source": [
    "print('Test set objective set size:', len(y_test))\n",
    "print(y_test)"
   ]
  },
  {
   "cell_type": "markdown",
   "metadata": {},
   "source": [
    "### LR model"
   ]
  },
  {
   "cell_type": "code",
   "execution_count": null,
   "metadata": {},
   "outputs": [],
   "source": [
    "# Create a LR model\n",
    "model = LinearRegression()"
   ]
  },
  {
   "cell_type": "code",
   "execution_count": null,
   "metadata": {},
   "outputs": [],
   "source": [
    "# Fit the model to the TRAIN!! data\n",
    "model.fit(x_train, y_train)"
   ]
  },
  {
   "cell_type": "code",
   "execution_count": null,
   "metadata": {},
   "outputs": [],
   "source": [
    "# Predict on the TEST!! data.\n",
    "y_pred = model.predict(x_test)  # Use X, not X_new for prediction"
   ]
  },
  {
   "cell_type": "markdown",
   "metadata": {},
   "source": [
    "#### Results and analysis"
   ]
  },
  {
   "cell_type": "code",
   "execution_count": null,
   "metadata": {},
   "outputs": [],
   "source": [
    "# Plot the original sine wave and the predicted values\n",
    "plt.plot(y_pred[-50:], label='Predicted Data', linestyle='--', marker = 'o')\n",
    "plt.plot(y_test[-50:], label='True Data', marker = 'o')\n",
    "plt.legend()\n",
    "plt.grid()\n",
    "plt.axhline(y = 0, color = 'black', linestyle = '--')"
   ]
  },
  {
   "cell_type": "code",
   "execution_count": null,
   "metadata": {},
   "outputs": [],
   "source": [
    "# RMSE Calculation\n",
    "rmse_test = math.sqrt(mean_squared_error(y_pred, y_test))\n",
    "print(f\"RMSE of Test: {rmse_test}\")\n",
    "# Is this a good value for the error? Why?"
   ]
  },
  {
   "cell_type": "code",
   "execution_count": null,
   "metadata": {},
   "outputs": [],
   "source": [
    "# Directional ratio calculation\n",
    "same_sign_count = np.sum(np.sign(y_pred) == np.sign(y_test)) / len(y_test) * 100\n",
    "print('Directional Ratio = ', same_sign_count, '%')\n",
    "# Is this a good ratio? Why?"
   ]
  }
 ],
 "metadata": {
  "kernelspec": {
   "display_name": "Python 3 (ipykernel)",
   "language": "python",
   "name": "python3"
  },
  "language_info": {
   "codemirror_mode": {
    "name": "ipython",
    "version": 3
   },
   "file_extension": ".py",
   "mimetype": "text/x-python",
   "name": "python",
   "nbconvert_exporter": "python",
   "pygments_lexer": "ipython3",
   "version": "3.11.5"
  }
 },
 "nbformat": 4,
 "nbformat_minor": 4
}
